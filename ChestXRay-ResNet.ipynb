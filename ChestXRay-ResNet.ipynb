{
 "cells": [
  {
   "cell_type": "markdown",
   "id": "1bed5db8",
   "metadata": {},
   "source": [
    "# Detecting COVID-19 with Chest X Ray using PyTorch\n",
    "\n",
    "Image classification of Chest X Rays in one of three classes: Normal, Viral Pneumonia, COVID-19\n",
    "\n",
    "Notebook created for the guided project [Detecting COVID-19 with Chest X Ray using PyTorch](https://www.coursera.org/projects/covid-19-detection-x-ray) on Coursera\n",
    "\n",
    "Dataset from [COVID-19 Radiography Dataset](https://www.kaggle.com/tawsifurrahman/covid19-radiography-database) on Kaggle"
   ]
  },
  {
   "cell_type": "code",
   "execution_count": 1,
   "id": "8d85e28d",
   "metadata": {},
   "outputs": [
    {
     "name": "stdout",
     "output_type": "stream",
     "text": [
      "Using PyTorch version 1.13.1\n"
     ]
    }
   ],
   "source": [
    "%matplotlib inline\n",
    "\n",
    "import os\n",
    "import shutil\n",
    "import random\n",
    "import torch\n",
    "import torchvision\n",
    "import numpy as np\n",
    "\n",
    "from PIL import Image\n",
    "from matplotlib import pyplot as plt\n",
    "\n",
    "torch.manual_seed(0)\n",
    "\n",
    "print('Using PyTorch version', torch.__version__)"
   ]
  },
  {
   "cell_type": "markdown",
   "id": "affc0138",
   "metadata": {},
   "source": [
    "# Preparing Training and Test Sets.\n",
    "\n",
    "## Cleaning the dataset here"
   ]
  },
  {
   "cell_type": "code",
   "execution_count": 15,
   "id": "d11d8874",
   "metadata": {},
   "outputs": [
    {
     "name": "stdout",
     "output_type": "stream",
     "text": [
      "['Viral Pneumonia.metadata.xlsx', '.DS_Store', 'test', 'COVID.metadata.xlsx', 'Normal.metadata.xlsx', 'pneumonia', 'normal', 'COVID', 'README.md.txt']\n"
     ]
    }
   ],
   "source": [
    "print(os.listdir('COVID-19_Radiography_Dataset'))\n"
   ]
  },
  {
   "cell_type": "code",
   "execution_count": 14,
   "id": "0deda37e",
   "metadata": {},
   "outputs": [
    {
     "name": "stdout",
     "output_type": "stream",
     "text": [
      "✅ Copied 3616 images to Clean_ChestXRay_Dataset/covid\n",
      "✅ Copied 1345 images to Clean_ChestXRay_Dataset/pneumonia\n",
      "✅ Copied 10192 images to Clean_ChestXRay_Dataset/normal\n",
      "🎉 Clean dataset created successfully!\n"
     ]
    }
   ],
   "source": [
    "root_dir = 'COVID-19_Radiography_Dataset'\n",
    "clean_dir = 'Clean_ChestXRay_Dataset'\n",
    "\n",
    "# Classes you want to include\n",
    "class_map = {\n",
    "    'COVID': 'covid',\n",
    "    'pneumonia': 'pneumonia',\n",
    "    'normal': 'normal'\n",
    "}\n",
    "\n",
    "# Create new clean dataset directory\n",
    "os.makedirs(clean_dir, exist_ok=True)\n",
    "\n",
    "for orig_class, new_class in class_map.items():\n",
    "    # Path to original images folder\n",
    "    img_dir = os.path.join(root_dir, orig_class, 'images')\n",
    "    if not os.path.isdir(img_dir):\n",
    "        print(f\"⚠️ Skipping {orig_class} (no images folder found).\")\n",
    "        continue\n",
    "\n",
    "    # Path to new clean class folder\n",
    "    clean_class_dir = os.path.join(clean_dir, new_class)\n",
    "    os.makedirs(clean_class_dir, exist_ok=True)\n",
    "\n",
    "    # Copy all .png files from images/ to clean dataset\n",
    "    images = [f for f in os.listdir(img_dir) if f.lower().endswith('.png')]\n",
    "    for img in images:\n",
    "        src = os.path.join(img_dir, img)\n",
    "        dst = os.path.join(clean_class_dir, img)\n",
    "        shutil.copy(src, dst)\n",
    "\n",
    "    print(f\"✅ Copied {len(images)} images to {clean_class_dir}\")\n",
    "\n",
    "print(\"🎉 Clean dataset created successfully!\")\n"
   ]
  },
  {
   "cell_type": "markdown",
   "id": "a54bb94b",
   "metadata": {},
   "source": [
    "# SPLITTING DATA Training and Test"
   ]
  },
  {
   "cell_type": "code",
   "execution_count": 16,
   "id": "0f1ce5db",
   "metadata": {},
   "outputs": [
    {
     "name": "stdout",
     "output_type": "stream",
     "text": [
      "✅ pneumonia: 1076 train, 269 test\n",
      "✅ normal: 8153 train, 2039 test\n",
      "✅ covid: 2892 train, 724 test\n",
      "🎉 Dataset successfully split into training and test sets!\n"
     ]
    }
   ],
   "source": [
    "# Source and target directories\n",
    "source_dir = 'Clean_ChestXRay_Dataset'\n",
    "target_dir = 'dataset_split'\n",
    "\n",
    "# Train-test ratio\n",
    "train_ratio = 0.8\n",
    "\n",
    "# Create main folders\n",
    "train_dir = os.path.join(target_dir, 'train')\n",
    "test_dir = os.path.join(target_dir, 'test')\n",
    "\n",
    "os.makedirs(train_dir, exist_ok=True)\n",
    "os.makedirs(test_dir, exist_ok=True)\n",
    "\n",
    "# Loop over each class\n",
    "for class_name in os.listdir(source_dir):\n",
    "    class_path = os.path.join(source_dir, class_name)\n",
    "    if not os.path.isdir(class_path):\n",
    "        continue\n",
    "\n",
    "    # Create subfolders for each class in train and test\n",
    "    os.makedirs(os.path.join(train_dir, class_name), exist_ok=True)\n",
    "    os.makedirs(os.path.join(test_dir, class_name), exist_ok=True)\n",
    "\n",
    "    # Get all images\n",
    "    images = [f for f in os.listdir(class_path) if f.lower().endswith('.png')]\n",
    "    random.shuffle(images)\n",
    "\n",
    "    # Split into train and test\n",
    "    split_idx = int(len(images) * train_ratio)\n",
    "    train_images = images[:split_idx]\n",
    "    test_images = images[split_idx:]\n",
    "\n",
    "    # Copy images into respective folders\n",
    "    for img in train_images:\n",
    "        shutil.copy(os.path.join(class_path, img), os.path.join(train_dir, class_name, img))\n",
    "    for img in test_images:\n",
    "        shutil.copy(os.path.join(class_path, img), os.path.join(test_dir, class_name, img))\n",
    "\n",
    "    print(f\"✅ {class_name}: {len(train_images)} train, {len(test_images)} test\")\n",
    "\n",
    "print(\"🎉 Dataset successfully split into training and test sets!\")"
   ]
  }
 ],
 "metadata": {
  "kernelspec": {
   "display_name": "base",
   "language": "python",
   "name": "python3"
  },
  "language_info": {
   "codemirror_mode": {
    "name": "ipython",
    "version": 3
   },
   "file_extension": ".py",
   "mimetype": "text/x-python",
   "name": "python",
   "nbconvert_exporter": "python",
   "pygments_lexer": "ipython3",
   "version": "3.10.8"
  }
 },
 "nbformat": 4,
 "nbformat_minor": 5
}
