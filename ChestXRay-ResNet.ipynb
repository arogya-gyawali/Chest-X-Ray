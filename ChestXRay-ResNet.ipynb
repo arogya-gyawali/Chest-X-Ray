{
 "cells": [
  {
   "cell_type": "markdown",
   "id": "1bed5db8",
   "metadata": {},
   "source": [
    "# Detecting COVID-19 with Chest X Ray using PyTorch\n",
    "\n",
    "Image classification of Chest X Rays in one of three classes: Normal, Viral Pneumonia, COVID-19\n",
    "\n",
    "Notebook created for the guided project [Detecting COVID-19 with Chest X Ray using PyTorch](https://www.coursera.org/projects/covid-19-detection-x-ray) on Coursera\n",
    "\n",
    "Dataset from [COVID-19 Radiography Dataset](https://www.kaggle.com/tawsifurrahman/covid19-radiography-database) on Kaggle"
   ]
  },
  {
   "cell_type": "code",
   "execution_count": 24,
   "id": "8d85e28d",
   "metadata": {},
   "outputs": [
    {
     "name": "stdout",
     "output_type": "stream",
     "text": [
      "Using PyTorch version 1.13.1\n"
     ]
    }
   ],
   "source": [
    "%matplotlib inline\n",
    "\n",
    "import os\n",
    "import shutil\n",
    "import random\n",
    "import torch\n",
    "import torchvision\n",
    "import numpy as np\n",
    "from torch.utils.data import Dataset, DataLoader\n",
    "\n",
    "from PIL import Image\n",
    "from matplotlib import pyplot as plt\n",
    "\n",
    "torch.manual_seed(0)\n",
    "\n",
    "print('Using PyTorch version', torch.__version__)"
   ]
  },
  {
   "cell_type": "markdown",
   "id": "affc0138",
   "metadata": {},
   "source": [
    "# Preparing Training and Test Sets.\n",
    "\n",
    "## Cleaning the dataset here"
   ]
  },
  {
   "cell_type": "code",
   "execution_count": 22,
   "id": "d11d8874",
   "metadata": {},
   "outputs": [
    {
     "name": "stdout",
     "output_type": "stream",
     "text": [
      "✅ Copied 3616 images to Clean_ChestXRay_Dataset/covid\n",
      "✅ Copied 1345 images to Clean_ChestXRay_Dataset/pneumonia\n",
      "✅ Copied 10192 images to Clean_ChestXRay_Dataset/normal\n",
      "\n",
      "🎉 Clean dataset created successfully!\n",
      "['pneumonia', 'normal', 'covid']\n"
     ]
    }
   ],
   "source": [
    "!python clean_dataset.py\n",
    "print(os.listdir('Clean_ChestXRay_Dataset'))\n"
   ]
  },
  {
   "cell_type": "markdown",
   "id": "a54bb94b",
   "metadata": {},
   "source": [
    "# SPLITTING DATA Training and Test"
   ]
  },
  {
   "cell_type": "code",
   "execution_count": 23,
   "id": "2cb0085e",
   "metadata": {},
   "outputs": [
    {
     "name": "stdout",
     "output_type": "stream",
     "text": [
      "✅ pneumonia: 1076 train, 269 test\n",
      "✅ normal: 8153 train, 2039 test\n",
      "✅ covid: 2892 train, 724 test\n",
      "🎉 Dataset successfully split into training and test sets!\n"
     ]
    }
   ],
   "source": [
    "# Run the split_dataset.py script\n",
    "!python split_dataset.py"
   ]
  },
  {
   "cell_type": "markdown",
   "id": "b9e8f149",
   "metadata": {},
   "source": [
    "# Creating Custom Dataset"
   ]
  },
  {
   "cell_type": "code",
   "execution_count": null,
   "id": "9cf6f29f",
   "metadata": {},
   "outputs": [],
   "source": [
    "class ChestXrayDataset(Dataset):\n",
    "    def __init__(self, image_dirs, transform=None):\n",
    "        def get_images(class_name):\n",
    "            images = [x for x in os.listdir(image_dirs[class_name]) if x.lower().endswith('.png')]\n",
    "            print(f'Found {len(images)} images for class: {class_name}')\n",
    "            return images\n",
    "\n",
    "        self.images = {}\n",
    "        self.class_names = ['normal', 'pneumonia', 'covid']  # consistent naming\n",
    "\n",
    "        # Gather all images\n",
    "        self.all_images = []\n",
    "        for c in self.class_names:\n",
    "            self.images[c] = get_images(c)\n",
    "            for img in self.images[c]:\n",
    "                self.all_images.append((c, img))\n",
    "\n",
    "        self.image_dirs = image_dirs\n",
    "        self.transform = transform\n",
    "\n",
    "    def __len__(self):\n",
    "        return len(self.all_images)\n",
    "\n",
    "    def __getitem__(self, index):\n",
    "        class_name, image_name = self.all_images[index]\n",
    "        image_path = os.path.join(self.image_dirs[class_name], image_name)\n",
    "        image = Image.open(image_path).convert('RGB')\n",
    "\n",
    "        if self.transform:\n",
    "            image = self.transform(image)\n",
    "\n",
    "        label = self.class_names.index(class_name)\n",
    "        return image, label"
   ]
  }
 ],
 "metadata": {
  "kernelspec": {
   "display_name": "base",
   "language": "python",
   "name": "python3"
  },
  "language_info": {
   "codemirror_mode": {
    "name": "ipython",
    "version": 3
   },
   "file_extension": ".py",
   "mimetype": "text/x-python",
   "name": "python",
   "nbconvert_exporter": "python",
   "pygments_lexer": "ipython3",
   "version": "3.10.8"
  }
 },
 "nbformat": 4,
 "nbformat_minor": 5
}
